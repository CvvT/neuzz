{
 "cells": [
  {
   "cell_type": "code",
   "execution_count": 2,
   "metadata": {},
   "outputs": [],
   "source": [
    "import re"
   ]
  },
  {
   "cell_type": "code",
   "execution_count": 10,
   "metadata": {},
   "outputs": [],
   "source": [
    "BYTE_MUTATION = 1\n",
    "INSERTION = 2\n",
    "DELETION = 3\n",
    "SPLICE = 4"
   ]
  },
  {
   "cell_type": "code",
   "execution_count": 14,
   "metadata": {},
   "outputs": [],
   "source": [
    "def parse(prefix, line):\n",
    "    m = re.search('%s-- file: (.+), iter: (\\d+), step: (\\d+), tgt: (.+)' % prefix, line)\n",
    "    if m:\n",
    "        return (BYTE_MUTATION, m.group(1), m.group(2), m.group(3), m.group(4))\n",
    "    m = re.search('%s-- file: (.+), iter: (\\d+), cut_len: (\\d+), tgt: (.+)' % prefix, line)\n",
    "    if m:\n",
    "        return (DELETION, m.group(1), m.group(2), m.group(3), m.group(4))\n",
    "    m = re.search('%s-- file: (.+), iter: (\\d+), add_len: (\\d+), tgt: (.+)' % prefix, line)\n",
    "    if m:\n",
    "        return (INSERTION, m.group(1), m.group(2), m.group(3), m.group(4))\n",
    "    print('Error:', line)\n",
    "    return None"
   ]
  },
  {
   "cell_type": "code",
   "execution_count": 16,
   "metadata": {},
   "outputs": [
    {
     "name": "stdout",
     "output_type": "stream",
     "text": [
      "fast stage\n",
      "\n",
      "END\n",
      "('Covs: ', 796)\n",
      "('Hits: ', 3046)\n",
      "('Crashes: ', 22)\n"
     ]
    }
   ],
   "source": [
    "covs = list()\n",
    "hits = list()\n",
    "crashes = list()\n",
    "with open('record') as f:\n",
    "    for line in f:\n",
    "        if line.startswith('New hit count'):\n",
    "            res = parse('New hit count', line)\n",
    "            hits.append(res)\n",
    "        elif line.startswith('New cov'):\n",
    "            res = parse('New cov', line)\n",
    "            covs.append(res)\n",
    "        elif line.startswith('New crash'):\n",
    "            res = parse('New crash', line)\n",
    "            crashes.append(res)\n",
    "        else:\n",
    "            print(line)\n",
    "print('Covs: ', len(covs))\n",
    "print('Hits: ', len(hits))\n",
    "print('Crashes: ', len(crashes))"
   ]
  }
 ],
 "metadata": {
  "kernelspec": {
   "display_name": "neuzz",
   "language": "python",
   "name": "neuzz"
  },
  "language_info": {
   "codemirror_mode": {
    "name": "ipython",
    "version": 2
   },
   "file_extension": ".py",
   "mimetype": "text/x-python",
   "name": "python",
   "nbconvert_exporter": "python",
   "pygments_lexer": "ipython2",
   "version": "2.7.12"
  }
 },
 "nbformat": 4,
 "nbformat_minor": 2
}
